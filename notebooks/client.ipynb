{
 "cells": [
  {
   "cell_type": "code",
   "execution_count": 15,
   "id": "540ab595",
   "metadata": {},
   "outputs": [
    {
     "name": "stdout",
     "output_type": "stream",
     "text": [
      "Status Code: 200\n",
      "Response Body: {'predictions': [{'class_name': 'label1', 'confidence': 0.825641393661499, 'bbox': [91.9615707397461, 66.99788665771484, 168.052734375, 118.5528564453125]}]}\n"
     ]
    }
   ],
   "source": [
    "import requests \n",
    "\n",
    "url = \"http://127.0.0.1:8000/predict\"\n",
    "data = {\"img_path\": \"sample-img/img1.jpg\"}\n",
    "\n",
    "response = requests.post(url, json=data)\n",
    "\n",
    "print(\"Status Code:\", response.status_code)\n",
    "print(\"Response Body:\", response.json())"
   ]
  },
  {
   "cell_type": "code",
   "execution_count": null,
   "id": "9c0bc43c",
   "metadata": {},
   "outputs": [],
   "source": []
  }
 ],
 "metadata": {
  "kernelspec": {
   "display_name": "brain-tumor-detection",
   "language": "python",
   "name": "python3"
  },
  "language_info": {
   "codemirror_mode": {
    "name": "ipython",
    "version": 3
   },
   "file_extension": ".py",
   "mimetype": "text/x-python",
   "name": "python",
   "nbconvert_exporter": "python",
   "pygments_lexer": "ipython3",
   "version": "3.12.2"
  }
 },
 "nbformat": 4,
 "nbformat_minor": 5
}
